{
 "cells": [
  {
   "cell_type": "markdown",
   "metadata": {},
   "source": [
    "# Tech Challenge - Fase 3\n",
    "\n",
    "## 📌 Descrição do Desafio\n",
    "\n",
    "Este projeto tem como objetivo analisar o comportamento da população durante a pandemia da COVID-19, utilizando os microdados da **PNAD-COVID19** do IBGE. O foco é identificar indicadores relevantes que possam auxiliar um grande hospital no planejamento de ações em caso de novos surtos da doença.\n",
    "\n",
    "## 📊 Estruturação do Banco de Dados\n",
    "\n",
    "Os dados foram organizados no **Google BigQuery**, permitindo análises eficientes e escaláveis. A modelagem do banco seguiu os seguintes princípios:\n",
    "- Seleção de **20 perguntas** da pesquisa PNAD-COVID19, conforme os requisitos do desafio.\n",
    "- **Limitação de 3 meses de dados** para manter a análise focada e gerenciável.\n",
    "    > Maio, Junho e Julho\n",
    "\n",
    "- Criação de tabelas otimizadas para facilitar consultas e agregações.\n",
    "\n",
    "## ❓ Perguntas Selecionadas\n",
    "\n",
    "Foram escolhidas 20 perguntas, divididas em três categorias principais:\n",
    "\n",
    "### **1️⃣ Caracterização dos sintomas clínicos da população**\n",
    "- **B1** – Sintomas apresentados na semana anterior.\n",
    "- **B2** – Busca por atendimento médico. (Por causa disso, foi a algum estabelecimento de saude?)\n",
    "- **B3** – Medidas tomadas para recuperação.\n",
    "- **B4** – Locais de atendimento procurados.\n",
    "- **B5** – Necessidade de internação.\n",
    "- **B6** – Necessidade de ventilação mecânica/intubação.\n",
    "- **B7** – Possui plano de saúde?\n",
    "\n",
    "### **2️⃣ Comportamento da população na época da COVID-19**\n",
    "- **C1** – Trabalhou na semana passada?\n",
    "- **C2** – Estava afastado do trabalho?\n",
    "- **C3** – Motivo do afastamento.\n",
    "- **C12** – Trabalhou no local habitual?\n",
    "- **C13** – Trabalhou em home office?\n",
    "\n",
    "### **3️⃣ Características econômicas da sociedade**\n",
    "- **C7** – Tipo de ocupação (empregado, autônomo, empresário etc.).\n",
    "- **C8** – Carga horária semanal.\n",
    "- **C01012** – Rendimento normal do trabalho.\n",
    "- **C14** – Contribuição para o INSS.\n",
    "- **C15** – Procurou trabalho na semana passada?\n",
    "- **D1e** – Recebeu auxílio emergencial?\n",
    "\n",
    "## 📌 Próximos Passos\n",
    "\n",
    "- **Ingestão de Dados:** Configuração e importação dos microdados no **Google BigQuery**.\n",
    "- **Limpeza e Preparação:** Tratamento de dados ausentes e estruturação das tabelas.\n",
    "- **Análises Exploratórias:** Geração de estatísticas descritivas e gráficos.\n",
    "- **Geração de Insights:** Identificação de padrões e recomendações para o hospital.\n",
    "\n",
    "---\n",
    "🚀 **Vamos ao desenvolvimento!**\n"
   ]
  },
  {
   "cell_type": "markdown",
   "metadata": {},
   "source": [
    "# Importando Bibliotecas"
   ]
  },
  {
   "cell_type": "code",
   "execution_count": 2,
   "metadata": {},
   "outputs": [
    {
     "name": "stderr",
     "output_type": "stream",
     "text": [
      "/opt/homebrew/Caskroom/miniconda/base/envs/py310/lib/python3.10/site-packages/pandas/core/arrays/masked.py:60: UserWarning: Pandas requires version '1.3.6' or newer of 'bottleneck' (version '1.3.5' currently installed).\n",
      "  from pandas.core import (\n"
     ]
    }
   ],
   "source": [
    "import pandas as pd"
   ]
  },
  {
   "cell_type": "markdown",
   "metadata": {},
   "source": [
    "# Dicionário de Dados"
   ]
  },
  {
   "cell_type": "code",
   "execution_count": null,
   "metadata": {},
   "outputs": [],
   "source": [
    "df_dicionario = pd.read_csv('../data/raw/dicionario.csv')"
   ]
  },
  {
   "cell_type": "code",
   "execution_count": null,
   "metadata": {},
   "outputs": [
    {
     "data": {
      "text/plain": [
       "array(['b011', 'b005', 'b00111', 'b0013', 'b0034', 'b0015', 'b0011',\n",
       "       'b0031', 'b0041', 'b0042', 'b0046', 'b0014', 'b0043', 'b0012',\n",
       "       'b009e', 'b0017', 'b0018', 'b0101', 'b0102', 'b009c', 'b00112',\n",
       "       'b0105', 'b0035', 'b006', 'b0106', 'b00110', 'b007', 'b0016',\n",
       "       'b002', 'b0104', 'b0032', 'b009a', 'b00113', 'b0033', 'b0037',\n",
       "       'b0103', 'b008', 'b0019', 'b0036', 'b0044', 'b0045', 'b009f',\n",
       "       'b009d', 'b009b'], dtype=object)"
      ]
     },
     "execution_count": 4,
     "metadata": {},
     "output_type": "execute_result"
    }
   ],
   "source": [
    "df_dicionario.query('nome_coluna.str.startswith(\"b\")', engine='python').nome_coluna.unique()"
   ]
  },
  {
   "cell_type": "code",
   "execution_count": null,
   "metadata": {},
   "outputs": [
    {
     "data": {
      "text/plain": [
       "array(['c016', 'c007', 'c005', 'c007e', 'c007a', 'c007d', 'c003', 'c007c',\n",
       "       'c007b', 'c0103', 'c004', 'c0104', 'capital', 'c006', 'c015',\n",
       "       'c002', 'c001', 'c014', 'c007f', 'c009a', 'c012', 'c017a', 'c013',\n",
       "       'c01011', 'c01021', 'c011a11', 'c011a21', 'c0101', 'c011a1',\n",
       "       'c011a', 'c010', 'c0102', 'c011a2'], dtype=object)"
      ]
     },
     "execution_count": 5,
     "metadata": {},
     "output_type": "execute_result"
    }
   ],
   "source": [
    "df_dicionario.query('nome_coluna.str.startswith(\"c\")', engine='python').nome_coluna.unique()"
   ]
  },
  {
   "cell_type": "code",
   "execution_count": null,
   "metadata": {},
   "outputs": [
    {
     "data": {
      "text/plain": [
       "array(['d0011', 'd0031', 'd0061', 'd0071', 'd0021', 'd0051', 'd0041'],\n",
       "      dtype=object)"
      ]
     },
     "execution_count": 6,
     "metadata": {},
     "output_type": "execute_result"
    }
   ],
   "source": [
    "df_dicionario.query('nome_coluna.str.startswith(\"d\")', engine='python').nome_coluna.unique()"
   ]
  },
  {
   "cell_type": "code",
   "execution_count": null,
   "metadata": {},
   "outputs": [
    {
     "data": {
      "text/html": [
       "<div>\n",
       "<style scoped>\n",
       "    .dataframe tbody tr th:only-of-type {\n",
       "        vertical-align: middle;\n",
       "    }\n",
       "\n",
       "    .dataframe tbody tr th {\n",
       "        vertical-align: top;\n",
       "    }\n",
       "\n",
       "    .dataframe thead th {\n",
       "        text-align: right;\n",
       "    }\n",
       "</style>\n",
       "<table border=\"1\" class=\"dataframe\">\n",
       "  <thead>\n",
       "    <tr style=\"text-align: right;\">\n",
       "      <th></th>\n",
       "      <th>id_tabela</th>\n",
       "      <th>nome_coluna</th>\n",
       "      <th>chave</th>\n",
       "      <th>cobertura_temporal</th>\n",
       "      <th>valor</th>\n",
       "    </tr>\n",
       "  </thead>\n",
       "  <tbody>\n",
       "    <tr>\n",
       "      <th>239</th>\n",
       "      <td>microdados</td>\n",
       "      <td>c002</td>\n",
       "      <td>1.0</td>\n",
       "      <td>2020-05(1)2020-11</td>\n",
       "      <td>Sim</td>\n",
       "    </tr>\n",
       "    <tr>\n",
       "      <th>334</th>\n",
       "      <td>microdados</td>\n",
       "      <td>c002</td>\n",
       "      <td>2.0</td>\n",
       "      <td>2020-05(1)2020-11</td>\n",
       "      <td>Não</td>\n",
       "    </tr>\n",
       "    <tr>\n",
       "      <th>521</th>\n",
       "      <td>microdados</td>\n",
       "      <td>c002</td>\n",
       "      <td>NaN</td>\n",
       "      <td>2020-05(1)2020-11</td>\n",
       "      <td>Não aplicável</td>\n",
       "    </tr>\n",
       "  </tbody>\n",
       "</table>\n",
       "</div>"
      ],
      "text/plain": [
       "      id_tabela nome_coluna  chave cobertura_temporal          valor\n",
       "239  microdados        c002    1.0  2020-05(1)2020-11            Sim\n",
       "334  microdados        c002    2.0  2020-05(1)2020-11            Não\n",
       "521  microdados        c002    NaN  2020-05(1)2020-11  Não aplicável"
      ]
     },
     "execution_count": 7,
     "metadata": {},
     "output_type": "execute_result"
    }
   ],
   "source": [
    "df_dicionario.query('nome_coluna == \"c002\"')"
   ]
  },
  {
   "cell_type": "markdown",
   "metadata": {},
   "source": [
    "## Importando bases"
   ]
  },
  {
   "cell_type": "code",
   "execution_count": null,
   "metadata": {},
   "outputs": [],
   "source": [
    "df_comportamento = pd.read_csv('../data/processed/comportamento.csv')\n",
    "df_economicos = pd.read_csv('../data/processed/economicos.csv')\n",
    "df_sintomas = pd.read_csv('../data/processed/sintomas.csv')"
   ]
  },
  {
   "cell_type": "code",
   "execution_count": 18,
   "metadata": {},
   "outputs": [],
   "source": [
    "df = df_comportamento.drop(columns='qtd_populacao_entrevistada')\\\n",
    "    .merge(df_economicos,  on = ['ANO', 'MES'] )\\\n",
    "    .merge(df_sintomas,  on = ['ANO', 'MES'] )"
   ]
  },
  {
   "cell_type": "code",
   "execution_count": 23,
   "metadata": {},
   "outputs": [],
   "source": [
    "df.to_csv('../data/processed/df_merge.csv', index = False)"
   ]
  }
 ],
 "metadata": {
  "kernelspec": {
   "display_name": "py310",
   "language": "python",
   "name": "python3"
  },
  "language_info": {
   "codemirror_mode": {
    "name": "ipython",
    "version": 3
   },
   "file_extension": ".py",
   "mimetype": "text/x-python",
   "name": "python",
   "nbconvert_exporter": "python",
   "pygments_lexer": "ipython3",
   "version": "3.10.0"
  }
 },
 "nbformat": 4,
 "nbformat_minor": 2
}
