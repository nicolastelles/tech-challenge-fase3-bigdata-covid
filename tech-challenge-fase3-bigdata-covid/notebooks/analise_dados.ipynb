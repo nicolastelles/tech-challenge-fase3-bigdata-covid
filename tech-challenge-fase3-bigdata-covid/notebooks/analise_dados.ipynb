{
 "cells": [
  {
   "cell_type": "markdown",
   "metadata": {},
   "source": [
    "# Tech Challenge - Fase 3\n",
    "\n",
    "## 📌 Descrição do Desafio\n",
    "\n",
    "Este projeto tem como objetivo analisar o comportamento da população durante a pandemia da COVID-19, utilizando os microdados da **PNAD-COVID19** do IBGE. O foco é identificar indicadores relevantes que possam auxiliar um grande hospital no planejamento de ações em caso de novos surtos da doença.\n",
    "\n",
    "## 📊 Estruturação do Banco de Dados\n",
    "\n",
    "Os dados foram organizados no **Google BigQuery**, permitindo análises eficientes e escaláveis. A modelagem do banco seguiu os seguintes princípios:\n",
    "- Seleção de **20 perguntas** da pesquisa PNAD-COVID19, conforme os requisitos do desafio.\n",
    "- **Limitação de 3 meses de dados** para manter a análise focada e gerenciável.\n",
    "    > Maio, Junho e Julho\n",
    "\n",
    "- Criação de tabelas otimizadas para facilitar consultas e agregações.\n",
    "\n",
    "## ❓ Perguntas Selecionadas\n",
    "\n",
    "Foram escolhidas 20 perguntas, divididas em três categorias principais:\n",
    "\n",
    "### **1️⃣ Caracterização dos sintomas clínicos da população**\n",
    "- **B1** – Sintomas apresentados na semana anterior.\n",
    "- **B2** – Busca por atendimento médico. (Por causa disso, foi a algum estabelecimento de saude?)\n",
    "- **B3** – Medidas tomadas para recuperação.\n",
    "- **B4** – Locais de atendimento procurados.\n",
    "- **B5** – Necessidade de internação.\n",
    "- **B6** – Necessidade de ventilação mecânica/intubação.\n",
    "- **B7** – Possui plano de saúde?\n",
    "\n",
    "### **2️⃣ Comportamento da população na época da COVID-19**\n",
    "- **C1** – Trabalhou na semana passada?\n",
    "- **C2** – Estava afastado do trabalho?\n",
    "- **C3** – Motivo do afastamento.\n",
    "- **C12** – Trabalhou no local habitual?\n",
    "- **C13** – Trabalhou em home office?\n",
    "\n",
    "### **3️⃣ Características econômicas da sociedade**\n",
    "- **C7** – Tipo de ocupação (empregado, autônomo, empresário etc.).\n",
    "- **C8** – Carga horária semanal.\n",
    "- **C10** – Rendimento normal do trabalho.\n",
    "- **C11a** – Rendimento do mês passado.\n",
    "- **C14** – Contribuição para o INSS.\n",
    "- **C15** – Procurou trabalho na semana passada?\n",
    "- **C16** – Motivo para não procurar trabalho.\n",
    "- **D1e** – Recebeu auxílio emergencial?\n",
    "\n",
    "## 📌 Próximos Passos\n",
    "\n",
    "- **Ingestão de Dados:** Configuração e importação dos microdados no **Google BigQuery**.\n",
    "- **Limpeza e Preparação:** Tratamento de dados ausentes e estruturação das tabelas.\n",
    "- **Análises Exploratórias:** Geração de estatísticas descritivas e gráficos.\n",
    "- **Geração de Insights:** Identificação de padrões e recomendações para o hospital.\n",
    "\n",
    "---\n",
    "🚀 **Vamos ao desenvolvimento!**\n"
   ]
  },
  {
   "cell_type": "code",
   "execution_count": 1,
   "metadata": {},
   "outputs": [
    {
     "name": "stderr",
     "output_type": "stream",
     "text": [
      "/opt/homebrew/Caskroom/miniconda/base/envs/py310/lib/python3.10/site-packages/pandas/core/arrays/masked.py:60: UserWarning: Pandas requires version '1.3.6' or newer of 'bottleneck' (version '1.3.5' currently installed).\n",
      "  from pandas.core import (\n"
     ]
    }
   ],
   "source": [
    "import pandas as pd"
   ]
  },
  {
   "cell_type": "code",
   "execution_count": 3,
   "metadata": {},
   "outputs": [],
   "source": [
    "df = pd.read_csv('../data/raw/dicionario.csv')"
   ]
  },
  {
   "cell_type": "code",
   "execution_count": 14,
   "metadata": {},
   "outputs": [
    {
     "data": {
      "text/plain": [
       "array(['b011', 'b005', 'b00111', 'b0013', 'b0034', 'b0015', 'b0011',\n",
       "       'b0031', 'b0041', 'b0042', 'b0046', 'b0014', 'b0043', 'b0012',\n",
       "       'b009e', 'b0017', 'b0018', 'b0101', 'b0102', 'b009c', 'b00112',\n",
       "       'b0105', 'b0035', 'b006', 'b0106', 'b00110', 'b007', 'b0016',\n",
       "       'b002', 'b0104', 'b0032', 'b009a', 'b00113', 'b0033', 'b0037',\n",
       "       'b0103', 'b008', 'b0019', 'b0036', 'b0044', 'b0045', 'b009f',\n",
       "       'b009d', 'b009b'], dtype=object)"
      ]
     },
     "execution_count": 14,
     "metadata": {},
     "output_type": "execute_result"
    }
   ],
   "source": [
    "df.query('nome_coluna.str.startswith(\"b\")', engine='python').nome_coluna.unique()"
   ]
  },
  {
   "cell_type": "code",
   "execution_count": 18,
   "metadata": {},
   "outputs": [
    {
     "data": {
      "text/html": [
       "<div>\n",
       "<style scoped>\n",
       "    .dataframe tbody tr th:only-of-type {\n",
       "        vertical-align: middle;\n",
       "    }\n",
       "\n",
       "    .dataframe tbody tr th {\n",
       "        vertical-align: top;\n",
       "    }\n",
       "\n",
       "    .dataframe thead th {\n",
       "        text-align: right;\n",
       "    }\n",
       "</style>\n",
       "<table border=\"1\" class=\"dataframe\">\n",
       "  <thead>\n",
       "    <tr style=\"text-align: right;\">\n",
       "      <th></th>\n",
       "      <th>id_tabela</th>\n",
       "      <th>nome_coluna</th>\n",
       "      <th>chave</th>\n",
       "      <th>cobertura_temporal</th>\n",
       "      <th>valor</th>\n",
       "    </tr>\n",
       "  </thead>\n",
       "  <tbody>\n",
       "    <tr>\n",
       "      <th>277</th>\n",
       "      <td>microdados</td>\n",
       "      <td>b002</td>\n",
       "      <td>1.0</td>\n",
       "      <td>2020-05(1)2020-11</td>\n",
       "      <td>Sim</td>\n",
       "    </tr>\n",
       "    <tr>\n",
       "      <th>309</th>\n",
       "      <td>microdados</td>\n",
       "      <td>b002</td>\n",
       "      <td>2.0</td>\n",
       "      <td>2020-05(1)2020-11</td>\n",
       "      <td>Não</td>\n",
       "    </tr>\n",
       "    <tr>\n",
       "      <th>407</th>\n",
       "      <td>microdados</td>\n",
       "      <td>b002</td>\n",
       "      <td>9.0</td>\n",
       "      <td>2020-05(1)2020-11</td>\n",
       "      <td>Ignorado</td>\n",
       "    </tr>\n",
       "    <tr>\n",
       "      <th>499</th>\n",
       "      <td>microdados</td>\n",
       "      <td>b002</td>\n",
       "      <td>NaN</td>\n",
       "      <td>2020-05(1)2020-11</td>\n",
       "      <td>Não aplicável</td>\n",
       "    </tr>\n",
       "  </tbody>\n",
       "</table>\n",
       "</div>"
      ],
      "text/plain": [
       "      id_tabela nome_coluna  chave cobertura_temporal          valor\n",
       "277  microdados        b002    1.0  2020-05(1)2020-11            Sim\n",
       "309  microdados        b002    2.0  2020-05(1)2020-11            Não\n",
       "407  microdados        b002    9.0  2020-05(1)2020-11       Ignorado\n",
       "499  microdados        b002    NaN  2020-05(1)2020-11  Não aplicável"
      ]
     },
     "execution_count": 18,
     "metadata": {},
     "output_type": "execute_result"
    }
   ],
   "source": [
    "df.query('nome_coluna == \"b002\"')"
   ]
  },
  {
   "cell_type": "code",
   "execution_count": null,
   "metadata": {},
   "outputs": [],
   "source": []
  }
 ],
 "metadata": {
  "kernelspec": {
   "display_name": "py310",
   "language": "python",
   "name": "python3"
  },
  "language_info": {
   "codemirror_mode": {
    "name": "ipython",
    "version": 3
   },
   "file_extension": ".py",
   "mimetype": "text/x-python",
   "name": "python",
   "nbconvert_exporter": "python",
   "pygments_lexer": "ipython3",
   "version": "3.10.0"
  }
 },
 "nbformat": 4,
 "nbformat_minor": 2
}
